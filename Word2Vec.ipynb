{
  "nbformat": 4,
  "nbformat_minor": 0,
  "metadata": {
    "colab": {
      "name": "Word2Vec.ipynb",
      "provenance": [],
      "collapsed_sections": [],
      "machine_shape": "hm",
      "authorship_tag": "ABX9TyPMVhs1JOKB0cTsuW+KYIUN",
      "include_colab_link": true
    },
    "kernelspec": {
      "name": "python3",
      "display_name": "Python 3"
    }
  },
  "cells": [
    {
      "cell_type": "markdown",
      "metadata": {
        "id": "view-in-github",
        "colab_type": "text"
      },
      "source": [
        "<a href=\"https://colab.research.google.com/github/talha1503/word2vec/blob/master/Word2Vec.ipynb\" target=\"_parent\"><img src=\"https://colab.research.google.com/assets/colab-badge.svg\" alt=\"Open In Colab\"/></a>"
      ]
    },
    {
      "cell_type": "code",
      "metadata": {
        "id": "-l9xwu03dVQP",
        "colab_type": "code",
        "outputId": "7f485b14-0d51-49e4-f1dd-d31ca5ca997b",
        "colab": {
          "base_uri": "https://localhost:8080/",
          "height": 34
        }
      },
      "source": [
        "from google.colab import drive\n",
        "drive.mount('/content/drive')"
      ],
      "execution_count": 203,
      "outputs": [
        {
          "output_type": "stream",
          "text": [
            "Drive already mounted at /content/drive; to attempt to forcibly remount, call drive.mount(\"/content/drive\", force_remount=True).\n"
          ],
          "name": "stdout"
        }
      ]
    },
    {
      "cell_type": "code",
      "metadata": {
        "id": "Pj0Xqix2dWmu",
        "colab_type": "code",
        "colab": {}
      },
      "source": [
        "import numpy as np\n",
        "import pandas as pd\n",
        "import nltk\n",
        "import os\n",
        "import re\n",
        "import operator"
      ],
      "execution_count": 0,
      "outputs": []
    },
    {
      "cell_type": "code",
      "metadata": {
        "id": "ylyQUIxpfYML",
        "colab_type": "code",
        "outputId": "f5d51264-7220-43e9-a6fd-34438887d60f",
        "colab": {
          "base_uri": "https://localhost:8080/",
          "height": 118
        }
      },
      "source": [
        "nltk.download('corpus')\n",
        "nltk.download('punkt')\n",
        "nltk.download('stopwords')"
      ],
      "execution_count": 205,
      "outputs": [
        {
          "output_type": "stream",
          "text": [
            "[nltk_data] Error loading corpus: Package 'corpus' not found in index\n",
            "[nltk_data] Downloading package punkt to /root/nltk_data...\n",
            "[nltk_data]   Package punkt is already up-to-date!\n",
            "[nltk_data] Downloading package stopwords to /root/nltk_data...\n",
            "[nltk_data]   Package stopwords is already up-to-date!\n"
          ],
          "name": "stdout"
        },
        {
          "output_type": "execute_result",
          "data": {
            "text/plain": [
              "True"
            ]
          },
          "metadata": {
            "tags": []
          },
          "execution_count": 205
        }
      ]
    },
    {
      "cell_type": "code",
      "metadata": {
        "id": "36uIANlBdld4",
        "colab_type": "code",
        "colab": {}
      },
      "source": [
        "base_path ='/content/drive/My Drive/Datasets/GOT_DATASET'"
      ],
      "execution_count": 0,
      "outputs": []
    },
    {
      "cell_type": "code",
      "metadata": {
        "id": "4jAHLG1MfHcB",
        "colab_type": "code",
        "colab": {}
      },
      "source": [
        "corpus=\"\"\n",
        "counter = 0\n",
        "for text_file in os.listdir(base_path):\n",
        "  # if counter == 2:\n",
        "  #   break\n",
        "  with open(base_path+'/'+text_file,'r') as txt_file:\n",
        "      corpus+=txt_file.read().replace('\\n','')\n",
        "  break\n",
        "  # counter+=1"
      ],
      "execution_count": 0,
      "outputs": []
    },
    {
      "cell_type": "code",
      "metadata": {
        "id": "Dy1HY4bed45y",
        "colab_type": "code",
        "colab": {}
      },
      "source": [
        "# corpus=\"\"\n",
        "# from bs4 import BeautifulSoup\n",
        "# import requests\n",
        "\n",
        "# base_url = \"https://en.wikipedia.org/wiki/Deep_learning\"\n",
        "# r = requests.get(base_url)\n",
        "# soup = BeautifulSoup(r.content,'html.parser')\n",
        "\n",
        "# paragraphs = soup.find_all('p')\n",
        "# for paragraph in paragraphs:\n",
        "#     corpus+=paragraph.text\n"
      ],
      "execution_count": 0,
      "outputs": []
    },
    {
      "cell_type": "code",
      "metadata": {
        "id": "6wqN9KNBcnbI",
        "colab_type": "code",
        "colab": {}
      },
      "source": [
        "# print(corpus)"
      ],
      "execution_count": 0,
      "outputs": []
    },
    {
      "cell_type": "code",
      "metadata": {
        "id": "FpoeSnn1ex_Q",
        "colab_type": "code",
        "colab": {}
      },
      "source": [
        "from nltk.corpus import stopwords\n",
        "def clean(text):\n",
        "  text = text.lower()\n",
        "  text = text.replace('“','')\n",
        "  text = text.replace('”','')\n",
        "  text = re.sub(\"hasn’t\",\"has not\",text)\n",
        "  text = re.sub(\"can’t\",\"can not\",text)\n",
        "  text = re.sub(\"wouldn’t\",\"would not\",text)\n",
        "  text = re.sub(\"couldn’t\",\"could not\",text)\n",
        "  text = re.sub(\"won’t\",\"will not\",text)\n",
        "  text = re.sub(\"isn’t\",\"is not\",text)\n",
        "  text = re.sub(\"i’ll\",\"i will\",text)\n",
        "  text = re.sub(\"he’ll\",\"he will\",text)\n",
        "  text = re.sub(\"she’ll\",\"she will\",text)\n",
        "  text = re.sub(\"i’m\",\"i am\",text)\n",
        "  text = re.sub(\"you’ll\",\"you will\",text)\n",
        "  text = re.sub(\"hadn’t\",\"had not\",text)\n",
        "  text = re.sub(\"don’t\",\"do not\",text)\n",
        "  text = re.sub(\"here’s\",\"here is\",text)\n",
        "  text = re.sub(\"where’s\",\"where is\",text)\n",
        "  text = re.sub(\"that’s\",\"that is\",text)\n",
        "  text = re.sub(\"it’s\",\"it is\",text)\n",
        "  text = re.sub(\"he’s\",\"he is\",text)\n",
        "  text = re.sub(\"she’s\",\"she is\",text)\n",
        "  text = re.sub(\"what’s\",\"what is\",text)\n",
        "  text = re.sub(\"i’ve\",\"i have\",text)\n",
        "  text = re.sub(\"they’re\",\"they are\",text)\n",
        "  text = re.sub(\"you’re\",\"you are\",text)\n",
        "  text = re.sub(\"we’d\",\"we would\",text)\n",
        "  text = re.sub(\"i’d\",\"i would\",text)\n",
        "  text = re.sub(r'[^A-Za-z]',' ',text)\n",
        "  text = text.split()\n",
        "  text = [word for word in text if word not in set(stopwords.words('english'))]\n",
        "  text = ' '.join(text)\n",
        "  return text"
      ],
      "execution_count": 0,
      "outputs": []
    },
    {
      "cell_type": "code",
      "metadata": {
        "id": "w4NVAitjf0IL",
        "colab_type": "code",
        "outputId": "f99c7963-c4f4-442c-88ff-8a1eff0eb89a",
        "colab": {
          "base_uri": "https://localhost:8080/",
          "height": 34
        }
      },
      "source": [
        "from nltk.tokenize import sent_tokenize,word_tokenize\n",
        "tp_corpus = sent_tokenize(corpus)\n",
        "tp_corpus = tp_corpus[:5000]\n",
        "tp_corpus = ' '.join(tp_corpus)\n",
        "cleaned_corpus = clean(tp_corpus)\n",
        "# print(cleaned_corpus[:50])\n",
        "print(len(sent_tokenize(tp_corpus)))\n",
        "# print(len(tp_corpus))\n",
        "# print(tp_corpus[:5])"
      ],
      "execution_count": 241,
      "outputs": [
        {
          "output_type": "stream",
          "text": [
            "5000\n"
          ],
          "name": "stdout"
        }
      ]
    },
    {
      "cell_type": "code",
      "metadata": {
        "id": "LizVURx-f45G",
        "colab_type": "code",
        "outputId": "86b6eae3-7712-4ff4-be2a-cb6f9752c99e",
        "colab": {
          "base_uri": "https://localhost:8080/",
          "height": 34
        }
      },
      "source": [
        "all_words = word_tokenize(cleaned_corpus)\n",
        "print(len(all_words))"
      ],
      "execution_count": 242,
      "outputs": [
        {
          "output_type": "stream",
          "text": [
            "37995\n"
          ],
          "name": "stdout"
        }
      ]
    },
    {
      "cell_type": "code",
      "metadata": {
        "id": "4JX9Jv9Og-aR",
        "colab_type": "code",
        "colab": {}
      },
      "source": [
        "sentences  = sent_tokenize(tp_corpus)\n",
        "\n",
        "cleaned_sentences = []\n",
        "for sentence in sentences:\n",
        "  cleaned_sentences.append(clean(sentence))  "
      ],
      "execution_count": 0,
      "outputs": []
    },
    {
      "cell_type": "code",
      "metadata": {
        "id": "q1hZAhpHicwW",
        "colab_type": "code",
        "outputId": "70fb94e8-53a2-456c-c244-c86b76f4123c",
        "colab": {
          "base_uri": "https://localhost:8080/",
          "height": 54
        }
      },
      "source": [
        "print(cleaned_sentences[20:40])\n"
      ],
      "execution_count": 213,
      "outputs": [
        {
          "output_type": "stream",
          "text": [
            "['wore black wool gloves always complaining fingers frozen', 'bloody cold hunt said', 'bugger bear worth freezing go back emptyhand lark rumbled small paul brown whiskers covered face', 'lord commander would like ice big man squashed pug nose snot frozen', 'huge hand thick fur glove clenched tight around shaft spear bugger old bear said sisterman thin man sharp features nervous eyes', 'mormont dead daybreak remember', 'cares likes small paul blinked black little eyes', 'maybe forgotten chett thought stupid enough forget anything', 'kill old bear', 'go let think let us said lark', 'hunt us', 'want hunted great muttonhead said small paul', 'want', 'kill said lark yes huge man stamped butt spear frozen riverbank', '', 'hunt us sisterman took hands armpits turned chett', 'need kill officers say chett sick hearing', '', 'old bear dies blane shadow tower', 'grubbs aethan well ill luck drawing watch dywen bannen tracking ser piggy ravens']\n"
          ],
          "name": "stdout"
        }
      ]
    },
    {
      "cell_type": "code",
      "metadata": {
        "id": "JT1rlt-pmU1X",
        "colab_type": "code",
        "outputId": "20d4e9f4-083f-40ec-fa95-50526b7a5235",
        "colab": {
          "base_uri": "https://localhost:8080/",
          "height": 50
        }
      },
      "source": [
        "all_words = list(set(all_words))\n",
        "print(\"Total Vocabulary size is:\",len(all_words))\n",
        "print(\"Total number of sentences are:\",len(cleaned_sentences))"
      ],
      "execution_count": 214,
      "outputs": [
        {
          "output_type": "stream",
          "text": [
            "Total Vocabulary size is: 6633\n",
            "Total number of sentences are: 5000\n"
          ],
          "name": "stdout"
        }
      ]
    },
    {
      "cell_type": "code",
      "metadata": {
        "id": "WTkolPNaq9YN",
        "colab_type": "code",
        "colab": {}
      },
      "source": [
        "def generate_data(window_size,all_words,cleaned_sentences):\n",
        "  total_vocab = len(all_words)\n",
        "  word2Ind = {word:i for i,word in enumerate(all_words)} \n",
        "  ind2Word = {i:word for i,word in enumerate(all_words)}\n",
        "  x_train,y_train = [],[]\n",
        "  for sent_index,sentence in enumerate(cleaned_sentences):\n",
        "    for index,word in enumerate(sentence.split()):\n",
        "      if word in set(all_words): \n",
        "        center_word_array = np.zeros(total_vocab)\n",
        "        center_word_array[word2Ind[word]] = 1\n",
        "        context_word_array = np.zeros(total_vocab)\n",
        "        # print(\"center word: \",word)\n",
        "        # print(\"Sentence is : \",sentence)\n",
        "        for j in range(index-window_size,index+window_size+1):\n",
        "          if j>=0 and j!=index and j<len(sentence.split()):\n",
        "            if sentence.split()[j] in set(all_words):\n",
        "              # print(\"Context word: \",sentence.split()[j])\n",
        "              context_word_array[word2Ind[sentence.split()[j]]] = 1\n",
        "        # data.append([center_word_array,context_word_array]) \n",
        "        x_train.append(center_word_array)\n",
        "        y_train.append(context_word_array)\n",
        "\n",
        "  return x_train,y_train,word2Ind,ind2Word"
      ],
      "execution_count": 0,
      "outputs": []
    },
    {
      "cell_type": "code",
      "metadata": {
        "id": "NUD2A2A-b4LH",
        "colab_type": "code",
        "colab": {}
      },
      "source": [
        "x_train,y_train,word_to_index,index_to_word = generate_data(2,all_words,cleaned_sentences)"
      ],
      "execution_count": 0,
      "outputs": []
    },
    {
      "cell_type": "code",
      "metadata": {
        "id": "mKbOJ0mc-9co",
        "colab_type": "code",
        "colab": {}
      },
      "source": [
        "# import pickle\n",
        "\n",
        "# pickle.dump(x_train,open('x_train_word2vec.pkl','wb'))\n",
        "# pickle.dump(y_train,open('y_train_word2vec.pkl','wb'))\n",
        "# pickle.dump(word2Ind,open('word_to_index_word2vec.pkl','wb'))\n",
        "# pickle.dump(ind2Word,open('index_to_word_word2vec.pkl','wb'))"
      ],
      "execution_count": 0,
      "outputs": []
    },
    {
      "cell_type": "code",
      "metadata": {
        "id": "oM6rGFPRUKfC",
        "colab_type": "code",
        "outputId": "dcb24d22-02e8-448f-e460-5265e9a99632",
        "colab": {
          "base_uri": "https://localhost:8080/",
          "height": 34
        }
      },
      "source": [
        "np.seterr(divide='warn', invalid='warn',over='warn',under='warn')"
      ],
      "execution_count": 218,
      "outputs": [
        {
          "output_type": "execute_result",
          "data": {
            "text/plain": [
              "{'divide': 'warn', 'invalid': 'warn', 'over': 'warn', 'under': 'warn'}"
            ]
          },
          "metadata": {
            "tags": []
          },
          "execution_count": 218
        }
      ]
    },
    {
      "cell_type": "code",
      "metadata": {
        "id": "1h9SOqJ043GZ",
        "colab_type": "code",
        "colab": {}
      },
      "source": [
        "def cosine_similarity(vector1,vector2):\n",
        "  return (np.dot(vector_1,vector_2)/(np.linalg.norm(vector_1)*np.linalg.norm(vector_2)))"
      ],
      "execution_count": 0,
      "outputs": []
    },
    {
      "cell_type": "code",
      "metadata": {
        "id": "8Q8AMO24qXzh",
        "colab_type": "code",
        "colab": {}
      },
      "source": [
        "class Word2Vec():\n",
        "  def __init__(self,dimensions,window_size,epochs,learning_rate,vocab_size,x_train,y_train,word2Ind,ind2Word):\n",
        "    self.dimensions = dimensions\n",
        "    self.window_size = window_size\n",
        "    self.epochs = epochs\n",
        "    self.learning_rate = learning_rate\n",
        "    self.vocab_size = vocab_size\n",
        "    self.x_train = x_train\n",
        "    self.y_train = y_train\n",
        "    self.word2Ind = word2Ind\n",
        "    self.ind2Word = ind2Word\n",
        "\n",
        "  def train(self):\n",
        "    self.W1 = np.random.uniform(-1,1,(self.vocab_size,self.dimensions))\n",
        "    self.W2 = np.random.uniform(-1,1,(self.dimensions,self.vocab_size))\n",
        "\n",
        "    for i in range(self.epochs):\n",
        "      self.loss = 0\n",
        "      print(\"-\"*80)\n",
        "      for index,(x_train_sample,y_train_sample) in enumerate(zip(self.x_train,self.y_train)):\n",
        "        y,u,h = self.forward(x_train_sample) \n",
        "        self.backward(y,h,x_train_sample,y_train_sample)\n",
        "        context_words_included = 0\n",
        "        for j in range(self.vocab_size):\n",
        "          if y_train[index][j] == 1.0:\n",
        "            self.loss+=(-1)*u[j]\n",
        "            context_words_included+=1\n",
        "        self.loss += context_words_included*np.log(np.sum(np.exp(u-u.max())))\n",
        "        # self.loss += context_words_included*np.log(np.sum(u))\n",
        "        # print(\"Loss is:\",self.loss,end=\" \")\n",
        "        # print(\"Type is :\",type(self.loss))\n",
        "        # print(\"Training Example number--->\",index)\n",
        "      print(\"On Epoch:\",i,end=\" \")  \n",
        "      print(\"Loss is:\",self.loss)  \n",
        "\n",
        "  def forward(self,x_input):print(corpus)\n",
        "    h = np.dot(self.W1.T,x_input).reshape(self.dimensions,1)\n",
        "    u = np.dot(self.W2.T,h).reshape(self.vocab_size,1)\n",
        "    # u = np.log(np.max(u, 1e-9))\n",
        "\n",
        "    # y = np.exp(u) / np.sum(np.exp(u), axis=0)print(corpus)\n",
        "    y = self.exp_normalize(u)\n",
        "    return y,u,h\n",
        "\n",
        "  def exp_normalize(self,x):\n",
        "    b = x.max()\n",
        "    y = np.exp(x - b)\n",
        "    return y / y.sum()\n",
        "\n",
        "\n",
        "  def backward(self,y,h,x_train_sample,y_train_sample):    \n",
        "    error = y - y_train_sample.reshape(self.vocab_size,1)\n",
        "    dW2 = np.dot(h,error.T)\n",
        "    dW1 = np.dot(x_train_sample.reshape(self.vocab_size,1),np.dot(self.W2,error).T)\n",
        "    # dW1 = np.dot(self.W2,error)\n",
        "    self.W1 = self.W1 - self.learning_rate*(dW1)\n",
        "    self.W2 = self.W2 - self.learning_rate*(dW2)\n",
        "\n",
        "  def return_vector(self,word):\n",
        "    word_index = self.word2Ind[word]\n",
        "    return self.W1[word_index]\n",
        "\n",
        "  def most_similar(self,source_word,number_of_words=5):\n",
        "    source_vector = self.return_vector(source_word)\n",
        "    similarity_list = []\n",
        "    for word,index in self.word2Ind.items():\n",
        "      similarity_list.append((cosine_similarity(source_vector,self.return_vector(word)),word))\n",
        "    similarity_list.sort(key = operator.itemgetter(0))\n",
        "    required_words = similarity_list[:number_of_words+1]\n",
        "    word_list = [word[1] for word in required_words]\n",
        "    return word_list"
      ],
      "execution_count": 0,
      "outputs": []
    },
    {
      "cell_type": "code",
      "metadata": {
        "id": "3JFfP7oAx6ZB",
        "colab_type": "code",
        "colab": {}
      },
      "source": [
        "w_vectors = Word2Vec(dimensions = 10,\n",
        "                      window_size=2,\n",
        "                      epochs=5,\n",
        "                      learning_rate=0.01,\n",
        "                      vocab_size=len(all_words),\n",
        "                      x_train=x_train,\n",
        "                      y_train=y_train,\n",
        "                      ind2Word = index_to_word,\n",
        "                      word2Ind = word_to_index\n",
        "                     )"
      ],
      "execution_count": 0,
      "outputs": []
    },
    {
      "cell_type": "code",
      "metadata": {
        "id": "XEFzXpQSQRaB",
        "colab_type": "code",
        "outputId": "1cc733ef-0216-45b6-cda5-5b4b9795c039",
        "colab": {
          "base_uri": "https://localhost:8080/",
          "height": 185
        }
      },
      "source": [
        "w_vectors.train()"
      ],
      "execution_count": 223,
      "outputs": [
        {
          "output_type": "stream",
          "text": [
            "--------------------------------------------------------------------------------\n",
            "On Epoch: 0 Loss is: [742202.35237231]\n",
            "--------------------------------------------------------------------------------\n",
            "On Epoch: 1 Loss is: [666677.250956]\n",
            "--------------------------------------------------------------------------------\n",
            "On Epoch: 2 Loss is: [435114.9511188]\n",
            "--------------------------------------------------------------------------------\n",
            "On Epoch: 3 Loss is: [113152.39207066]\n",
            "--------------------------------------------------------------------------------\n",
            "On Epoch: 4 Loss is: [-694957.16513446]\n"
          ],
          "name": "stdout"
        }
      ]
    },
    {
      "cell_type": "code",
      "metadata": {
        "id": "w0nA6nQTn0uM",
        "colab_type": "code",
        "colab": {
          "base_uri": "https://localhost:8080/",
          "height": 533
        },
        "outputId": "4ca3fa29-a270-4015-e738-6fc1b7957f34"
      },
      "source": [
        "import matplotlib.pyplot as plt \n",
        "from sklearn.manifold import TSNE\n",
        "\n",
        "width_in_inches = 8\n",
        "height_in_inches = 8\n",
        "dots_per_inch = 80\n",
        "\n",
        "plt.figure(\n",
        "          figsize=(width_in_inches, height_in_inches),\n",
        "          dpi=dots_per_inch\n",
        "          )\n",
        "\n",
        "# num_words_to_plot = 20\n",
        "# word_indices = np.random.randint(0,w_vectors.vocab_size,num_words_to_plot)\n",
        "# for index in word_indices:\n",
        "#   # word_embedding = w_vectors.return_vector(w_vectors.ind2Word[index]).reshape(-1,1)\n",
        "#   # word_embedding = TSNE(n_components=2).fit_transform(word_embedding)\n",
        "#   word_embedding = w_vectors.return_vector(w_vectors.ind2Word[index])\n",
        "#   # print(word_embedding[0])\n",
        "#   plt.scatter(word_embedding[5],word_embedding[6],marker='x',color='b')\n",
        "#   plt.text(word_embedding[5],word_embedding[6],w_vectors.ind2Word[index],fontsize=9)\n",
        "\n",
        "words_to_plot = ['stark','death','hanged','win','glory','lannister','war','throne','killed','bran','dragon','targaryen']\n",
        "for word in words_to_plot:\n",
        "  # word_embedding = w_vectors.return_vector(w_vectors.ind2Word[index]).reshape(-1,1)\n",
        "  # word_embedding = TSNE(n_components=2).fit_transform(word_embedding)\n",
        "  word_embedding = w_vectors.return_vector(word)\n",
        "  plt.scatter(word_embedding[5],word_embedding[8],marker='x',color='b')\n",
        "  plt.text(word_embedding[5],word_embedding[8],word,fontsize=9)\n"
      ],
      "execution_count": 230,
      "outputs": [
        {
          "output_type": "display_data",
          "data": {
            "image/png": "[encoded data removed]",
            "text/plain": [
              "<Figure size 640x640 with 1 Axes>"
            ]
          },
          "metadata": {
            "tags": []
          }
        }
      ]
    },
    {
      "cell_type": "code",
      "metadata": {
        "id": "9lfO9qVnpe0Q",
        "colab_type": "code",
        "colab": {
          "base_uri": "https://localhost:8080/",
          "height": 34
        },
        "outputId": "0d71661d-eba4-4fbe-d183-75565e1851d1"
      },
      "source": [
        "plt.savefig('output1.png')"
      ],
      "execution_count": 231,
      "outputs": [
        {
          "output_type": "display_data",
          "data": {
            "text/plain": [
              "<Figure size 432x288 with 0 Axes>"
            ]
          },
          "metadata": {
            "tags": []
          }
        }
      ]
    },
    {
      "cell_type": "code",
      "metadata": {
        "id": "VI-euP_wvZfs",
        "colab_type": "code",
        "colab": {}
      },
      "source": [
        ""
      ],
      "execution_count": 0,
      "outputs": []
    }
  ]
}